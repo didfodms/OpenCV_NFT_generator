{
 "cells": [
  {
   "cell_type": "code",
   "execution_count": 35,
   "metadata": {},
   "outputs": [],
   "source": [
    "import sys\n",
    "import cv2"
   ]
  },
  {
   "cell_type": "code",
   "execution_count": 42,
   "metadata": {},
   "outputs": [
    {
     "name": "stdout",
     "output_type": "stream",
     "text": [
      "<class 'list'>\n"
     ]
    }
   ],
   "source": [
    "# 배경 리스트 background[]\n",
    "background = ['.\\\\image2\\\\background\\\\orange.png',\n",
    "              '.\\\\image2\\\\background\\\\yellow.png',\n",
    "              '.\\\\image2\\\\background\\\\green.png',\n",
    "              '.\\\\image2\\\\background\\\\purple.png',\n",
    "              '.\\\\image2\\\\background\\\\gray.png']\n",
    "\n",
    "# 접시 리스트 dish[]\n",
    "dish = ['.\\\\image2\\\\dish\\\\red.png',\n",
    "        '.\\\\image2\\\\dish\\\\yellow.png',\n",
    "        '.\\\\image2\\\\dish\\\\blue.png',\n",
    "        '.\\\\image2\\\\dish\\\\black.png']\n",
    "\n",
    "# 생선 리스트 fish[]\n",
    "fish = ['.\\\\image2\\\\fish\\\\flatfish.png',\n",
    "        '.\\\\image2\\\\fish\\\\salmon.png',\n",
    "        '.\\\\image2\\\\fish\\\\tuna.png',\n",
    "        '.\\\\image2\\\\fish\\\\shrimp.png']\n",
    "\n",
    "# 효과 리스트 effect[]\n",
    "effect = ['.\\\\image2\\\\effect\\\\good.png',\n",
    "          '.\\\\image2\\\\effect\\\\star.png',\n",
    "          '.\\\\image2\\\\effect\\\\heart.png',\n",
    "          '.\\\\image2\\\\effect\\\\skeleton.png']\n"
   ]
  },
  {
   "cell_type": "code",
   "execution_count": 37,
   "metadata": {},
   "outputs": [],
   "source": [
    "fish_src = cv2.imread(fish[0], cv2.IMREAD_COLOR)\n",
    "fish_mask = cv2.imread(fish[0], cv2.IMREAD_GRAYSCALE)\n",
    "dish_src = cv2.imread(dish[0], cv2.IMREAD_COLOR)\n",
    "dish_mask = cv2.imread(dish[0], cv2.IMREAD_GRAYSCALE)\n",
    "effect_src = cv2.imread(effect[0], cv2.IMREAD_COLOR)\n",
    "effect_mask = cv2.imread(effect[0], cv2.IMREAD_GRAYSCALE)\n",
    "background = cv2.imread(background[0], cv2.IMREAD_COLOR)\n",
    "\n",
    "if fish_src is None or fish_mask is None or dish_src is None or dish_mask is None or effect_src is None or effect_mask is None or background is None:\n",
    "    print('file open error!')\n",
    "    sys.exit()\n",
    "\n"
   ]
  },
  {
   "cell_type": "code",
   "execution_count": 38,
   "metadata": {},
   "outputs": [],
   "source": [
    "# 배경에 dish->fish->effect 순으로 합성\n",
    "background[dish_mask > 0] = dish_src[dish_mask > 0]\n",
    "background[fish_mask > 0] = fish_src[fish_mask > 0]\n",
    "background[effect_mask > 0] = effect_src[effect_mask > 0]"
   ]
  },
  {
   "cell_type": "code",
   "execution_count": 39,
   "metadata": {},
   "outputs": [],
   "source": [
    "background = cv2.resize(background, (500, 500))\n",
    "cv2.imshow('NFT', background)\n",
    "cv2.waitKey()\n",
    "cv2.destroyAllWindows()"
   ]
  }
 ],
 "metadata": {
  "interpreter": {
   "hash": "d818019e9fc9fae7cdf8a445f715940dfee061aeca3da48d1e5a5f322c2f3bbd"
  },
  "kernelspec": {
   "display_name": "Python 3.9.13 64-bit (windows store)",
   "language": "python",
   "name": "python3"
  },
  "language_info": {
   "codemirror_mode": {
    "name": "ipython",
    "version": 3
   },
   "file_extension": ".py",
   "mimetype": "text/x-python",
   "name": "python",
   "nbconvert_exporter": "python",
   "pygments_lexer": "ipython3",
   "version": "3.9.13"
  },
  "orig_nbformat": 4
 },
 "nbformat": 4,
 "nbformat_minor": 2
}

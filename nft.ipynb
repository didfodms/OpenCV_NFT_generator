{
 "cells": [
  {
   "cell_type": "markdown",
   "metadata": {},
   "source": []
  },
  {
   "cell_type": "markdown",
   "metadata": {},
   "source": [
    "### OpenCV 프로젝트\n",
    "+ 프로젝트 제목 : NFT GENERATOR with OpenCV\n",
    "+ 프로젝트 목적 : NFT 대량 생산\n",
    "+ 프로젝트 내용 :\n",
    "    1. 배경(단색 랜덤 생성, 예상 : 5개), 몸통, 머리, 옷(직접 그려와야 함) 정도..\n",
    "    2. 객체 검출 중 유사도를 활용해서 대량 생산된 NFT간의 레어도 각각 계산 -> 더 비싸게 팔기\n",
    "\n",
    "<br>\n",
    "\n",
    "+ 프로젝트 제작 과정 :\n",
    "    1. 배경 랜덤 생성 구현\n",
    "    2. 배경 + 몸통 + 머리 + 옷 마스킹 합성 구현\n",
    "    3. UI(User Interface) 구현 ex. 몸통, 머리, 옷 파일을 가져오는..\n",
    "    4. NFT 각각의 레어도 계산 (의문점 : 파일이 엄청 많을텐데.. 가능한가? -> 불가능할거라 예측중.. 이건 가능하면 하기로!)\n",
    "    5. 결과물은 콜라주로..\n",
    "    \n"
   ]
  },
  {
   "cell_type": "code",
   "execution_count": 26,
   "metadata": {},
   "outputs": [],
   "source": [
    "import sys\n",
    "import cv2"
   ]
  },
  {
   "cell_type": "code",
   "execution_count": 27,
   "metadata": {},
   "outputs": [],
   "source": [
    "# 배경 리스트 background[]\n",
    "background = ['.\\\\image\\\\background\\\\orange.png',\n",
    "              '.\\\\image\\\\background\\\\yellow.png',\n",
    "              '.\\\\image\\\\background\\\\green.png',\n",
    "              '.\\\\image\\\\background\\\\purple.png',\n",
    "              '.\\\\image\\\\background\\\\gray.png']\n",
    "\n",
    "# 접시 리스트 dish[]\n",
    "dish = ['.\\\\image\\\\dish\\\\red.png',\n",
    "        '.\\\\image\\\\dish\\\\yellow.png',\n",
    "        '.\\\\image\\\\dish\\\\blue.png',\n",
    "        '.\\\\image\\\\dish\\\\black.png']\n",
    "\n",
    "# 생선 리스트 fish[]\n",
    "fish = ['.\\\\image\\\\fish\\\\flatfish.png',\n",
    "        '.\\\\image\\\\fish\\\\salmon.png',\n",
    "        '.\\\\image\\\\fish\\\\tuna.png',\n",
    "        '.\\\\image\\\\fish\\\\shrimp.png']\n",
    "\n",
    "# 효과 리스트 effect[]\n",
    "effect = ['.\\\\image\\\\effect\\\\good.png',\n",
    "          '.\\\\image\\\\effect\\\\star.png',\n",
    "          '.\\\\image\\\\effect\\\\heart.png',\n",
    "          '.\\\\image\\\\effect\\\\skeleton.png']"
   ]
  },
  {
   "cell_type": "code",
   "execution_count": 28,
   "metadata": {},
   "outputs": [],
   "source": [
    "background = cv2.imread(background[0], cv2.IMREAD_COLOR)\n",
    "dish = cv2.imread(dish[0], cv2.IMREAD_COLOR)\n",
    "fish = cv2.imread(fish[0], cv2.IMREAD_COLOR)\n",
    "effect = cv2.imread(effect[0], cv2.IMREAD_COLOR)\n",
    "\n",
    "cv2.imshow('dish', dish)\n",
    "cv2.imshow('fish', fish)\n",
    "cv2.imshow('effect', effect)\n",
    "cv2.imshow('NFT', background)\n",
    "cv2.waitKey()\n",
    "cv2.destroyAllWindows()"
   ]
  },
  {
   "cell_type": "code",
   "execution_count": 29,
   "metadata": {},
   "outputs": [],
   "source": [
    "# background -> dish -> fish -> effect 순으로 합침\n",
    "background = dish\n",
    "background = fish\n",
    "background = effect"
   ]
  },
  {
   "cell_type": "code",
   "execution_count": 30,
   "metadata": {},
   "outputs": [],
   "source": [
    "cv2.imshow('dish', dish)\n",
    "cv2.imshow('fish', fish)\n",
    "cv2.imshow('effect', effect)\n",
    "cv2.imshow('NFT', background)\n",
    "cv2.waitKey()\n",
    "cv2.destroyAllWindows()"
   ]
  }
 ],
 "metadata": {
  "interpreter": {
   "hash": "d818019e9fc9fae7cdf8a445f715940dfee061aeca3da48d1e5a5f322c2f3bbd"
  },
  "kernelspec": {
   "display_name": "Python 3.9.13 64-bit (windows store)",
   "language": "python",
   "name": "python3"
  },
  "language_info": {
   "codemirror_mode": {
    "name": "ipython",
    "version": 3
   },
   "file_extension": ".py",
   "mimetype": "text/x-python",
   "name": "python",
   "nbconvert_exporter": "python",
   "pygments_lexer": "ipython3",
   "version": "3.9.13"
  },
  "orig_nbformat": 4
 },
 "nbformat": 4,
 "nbformat_minor": 2
}
